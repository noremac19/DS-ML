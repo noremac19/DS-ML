{
 "cells": [
  {
   "cell_type": "markdown",
   "id": "38accf57",
   "metadata": {},
   "source": [
    "# Question 1 (30%)"
   ]
  },
  {
   "cell_type": "code",
   "execution_count": 70,
   "id": "5a339c3e",
   "metadata": {},
   "outputs": [],
   "source": [
    "import pandas as pd\n",
    "import numpy as np\n",
    "from sklearn.linear_model import LinearRegression\n",
    "from numpy.linalg import inv\n",
    "from sklearn.metrics import mean_squared_error\n",
    "from sklearn.metrics import mean_absolute_error\n",
    "from sklearn.metrics import mean_absolute_percentage_error\n",
    "import matplotlib.pyplot as plt"
   ]
  },
  {
   "cell_type": "code",
   "execution_count": 14,
   "id": "44f112c2",
   "metadata": {},
   "outputs": [],
   "source": [
    "data = pd.read_csv(\"/Users/cameronwalcott/Desktop/MLSys-NYU-2023/weeks/02/data/train.csv\")"
   ]
  },
  {
   "cell_type": "code",
   "execution_count": 15,
   "id": "dcc86dd8",
   "metadata": {
    "scrolled": true
   },
   "outputs": [
    {
     "data": {
      "text/plain": [
       "Index(['Id', 'MSSubClass', 'MSZoning', 'LotFrontage', 'LotArea', 'Street',\n",
       "       'Alley', 'LotShape', 'LandContour', 'Utilities', 'LotConfig',\n",
       "       'LandSlope', 'Neighborhood', 'Condition1', 'Condition2', 'BldgType',\n",
       "       'HouseStyle', 'OverallQual', 'OverallCond', 'YearBuilt', 'YearRemodAdd',\n",
       "       'RoofStyle', 'RoofMatl', 'Exterior1st', 'Exterior2nd', 'MasVnrType',\n",
       "       'MasVnrArea', 'ExterQual', 'ExterCond', 'Foundation', 'BsmtQual',\n",
       "       'BsmtCond', 'BsmtExposure', 'BsmtFinType1', 'BsmtFinSF1',\n",
       "       'BsmtFinType2', 'BsmtFinSF2', 'BsmtUnfSF', 'TotalBsmtSF', 'Heating',\n",
       "       'HeatingQC', 'CentralAir', 'Electrical', '1stFlrSF', '2ndFlrSF',\n",
       "       'LowQualFinSF', 'GrLivArea', 'BsmtFullBath', 'BsmtHalfBath', 'FullBath',\n",
       "       'HalfBath', 'BedroomAbvGr', 'KitchenAbvGr', 'KitchenQual',\n",
       "       'TotRmsAbvGrd', 'Functional', 'Fireplaces', 'FireplaceQu', 'GarageType',\n",
       "       'GarageYrBlt', 'GarageFinish', 'GarageCars', 'GarageArea', 'GarageQual',\n",
       "       'GarageCond', 'PavedDrive', 'WoodDeckSF', 'OpenPorchSF',\n",
       "       'EnclosedPorch', '3SsnPorch', 'ScreenPorch', 'PoolArea', 'PoolQC',\n",
       "       'Fence', 'MiscFeature', 'MiscVal', 'MoSold', 'YrSold', 'SaleType',\n",
       "       'SaleCondition', 'SalePrice'],\n",
       "      dtype='object')"
      ]
     },
     "execution_count": 15,
     "metadata": {},
     "output_type": "execute_result"
    }
   ],
   "source": [
    "data.columns"
   ]
  },
  {
   "cell_type": "code",
   "execution_count": 16,
   "id": "703a4794",
   "metadata": {},
   "outputs": [
    {
     "data": {
      "text/plain": [
       "array([[ 856, 1262,  920, ..., 1188, 1078, 1256],\n",
       "       [ 854,    0,  866, ..., 1152,    0,    0],\n",
       "       [ 856, 1262,  920, ..., 1152, 1078, 1256]])"
      ]
     },
     "execution_count": 16,
     "metadata": {},
     "output_type": "execute_result"
    }
   ],
   "source": [
    "X = data[[\"1stFlrSF\", \"2ndFlrSF\", \"TotalBsmtSF\"]].to_numpy()\n",
    "Xt = X.transpose()\n",
    "Xt"
   ]
  },
  {
   "cell_type": "code",
   "execution_count": 5,
   "id": "b7a1810a",
   "metadata": {
    "scrolled": true
   },
   "outputs": [
    {
     "data": {
      "text/plain": [
       "0       208500\n",
       "1       181500\n",
       "2       223500\n",
       "3       140000\n",
       "4       250000\n",
       "         ...  \n",
       "1455    175000\n",
       "1456    210000\n",
       "1457    266500\n",
       "1458    142125\n",
       "1459    147500\n",
       "Name: SalePrice, Length: 1460, dtype: int64"
      ]
     },
     "execution_count": 5,
     "metadata": {},
     "output_type": "execute_result"
    }
   ],
   "source": [
    "y = data[\"SalePrice\"]\n",
    "y"
   ]
  },
  {
   "cell_type": "code",
   "execution_count": 22,
   "id": "f5462aa6",
   "metadata": {},
   "outputs": [
    {
     "data": {
      "text/plain": [
       "array([71.56451306, 80.60722621, 67.05575936])"
      ]
     },
     "execution_count": 22,
     "metadata": {},
     "output_type": "execute_result"
    }
   ],
   "source": [
    "p1 = np.dot(Xt, X)\n",
    "p1 = inv(p1)\n",
    "p2 = np.dot(Xt, y)\n",
    "b = np.dot(p1, p2)\n",
    "b"
   ]
  },
  {
   "cell_type": "code",
   "execution_count": 27,
   "id": "d65eff9d",
   "metadata": {},
   "outputs": [
    {
     "data": {
      "text/plain": [
       "array([187497.52437894, 174938.78379762, 197336.50852855, ...,\n",
       "       255126.40089751, 149432.65367182, 174107.06216308])"
      ]
     },
     "execution_count": 27,
     "metadata": {},
     "output_type": "execute_result"
    }
   ],
   "source": [
    "y_pred = b[0]*X[:,0] + b[1]*X[:,1] + b[2]*X[:,2]\n",
    "y_pred"
   ]
  },
  {
   "cell_type": "code",
   "execution_count": 28,
   "id": "e059eb68",
   "metadata": {},
   "outputs": [
    {
     "data": {
      "text/plain": [
       "0.6128732792714722"
      ]
     },
     "execution_count": 28,
     "metadata": {},
     "output_type": "execute_result"
    }
   ],
   "source": [
    "from sklearn.metrics import r2_score\n",
    "R2 = r2_score(y, y_pred)\n",
    "R2"
   ]
  },
  {
   "cell_type": "markdown",
   "id": "2efb6eca",
   "metadata": {},
   "source": [
    "# Question 2 (70%)"
   ]
  },
  {
   "cell_type": "code",
   "execution_count": null,
   "id": "e3ebebad",
   "metadata": {},
   "outputs": [],
   "source": [
    "# Question 1: Which feature shows the largest decrease in Mean Absolute Percentage Error in your plot when it is introduced to the model?\n",
    "#     The second feature shows the largest decrease in \n",
    "# Question 2: Would your answer be the same if you rearranged the order of the list? Why or why not?\n",
    "#     Yes my answer would still be the same since the beta for thee second feature is a constant whhich is proportional to the input feactu"
   ]
  },
  {
   "cell_type": "code",
   "execution_count": 75,
   "id": "933283ab",
   "metadata": {},
   "outputs": [],
   "source": [
    "features = [\"1stFlrSF\",\"TotalBsmtSF\",\"2ndFlrSF\",\"LotArea\",\"OverallQual\",\"GrLivArea\",\"GarageCars\",\"GarageArea\"]\n",
    "models = []\n",
    "model = LinearRegression()"
   ]
  },
  {
   "cell_type": "code",
   "execution_count": 76,
   "id": "43f2d8d0",
   "metadata": {},
   "outputs": [],
   "source": [
    "for i in range(1,9):\n",
    "    f = features[:i]\n",
    "    X = data[f]\n",
    "    model.fit(X,y)\n",
    "    y_pred = model.predict(X)\n",
    "    \n",
    "    r2 = r2_score(y, y_pred)\n",
    "    mse = mean_squared_error(y, y_pred)\n",
    "    mae = mean_absolute_error(y, y_pred)\n",
    "    mape = mean_absolute_percentage_error(y, y_pred)\n",
    "    \n",
    "    temp = (r2,mse,mae,mape)\n",
    "    models.append(temp)\n",
    "    "
   ]
  },
  {
   "cell_type": "code",
   "execution_count": 77,
   "id": "9349aab5",
   "metadata": {
    "scrolled": true
   },
   "outputs": [
    {
     "name": "stdout",
     "output_type": "stream",
     "text": [
      "Model 1 |  R2: 0.36705686969596585 | MSE: 3991838509.3767366 | MAE: 46242.07479449308 | MAPE: 0.2789308913531604\n",
      "Model 2 |  R2: 0.4087919416576187 | MSE: 3728624233.920253 | MAE: 44358.43514915446 | MAPE: 0.26495041133030167\n",
      "Model 3 |  R2: 0.6154510202519747 | MSE: 2425269115.982565 | MAE: 31550.348606260406 | MAPE: 0.18938830922572908\n",
      "Model 4 |  R2: 0.6161416405192517 | MSE: 2420913519.964092 | MAE: 31472.154569368682 | MAPE: 0.18885941518670113\n",
      "Model 5 |  R2: 0.7511254567579683 | MSE: 1569599128.502866 | MAE: 25405.687388844144 | MAPE: 0.15726317966198058\n",
      "Model 6 |  R2: 0.7514484819919405 | MSE: 1567561876.6444705 | MAE: 25376.295607225897 | MAPE: 0.1571067970435273\n",
      "Model 7 |  R2: 0.7671907190668249 | MSE: 1468278915.552727 | MAE: 24641.54720059893 | MAPE: 0.15179799743477604\n",
      "Model 8 |  R2: 0.7675195817480766 | MSE: 1466204848.1484616 | MAE: 24500.142695368886 | MAPE: 0.15083837232149436\n"
     ]
    }
   ],
   "source": [
    "r2s = []\n",
    "mses = []\n",
    "maes = []\n",
    "mapes = []\n",
    "num_f = np.arange(1,9)\n",
    "for m in range(len(models)):\n",
    "    r2s.append(models[m][0])\n",
    "    mses.append(models[m][1])\n",
    "    maes.append(models[m][2])\n",
    "    mapes.append(models[m][3])\n",
    "    print(\"Model\",m+1,\"| \", \"R2:\", models[m][0], \"|\", \"MSE:\", models[m][1],\"|\", \"MAE:\", models[m][2],\"|\", \"MAPE:\", models[m][3])"
   ]
  },
  {
   "cell_type": "code",
   "execution_count": 78,
   "id": "3efd5e80",
   "metadata": {},
   "outputs": [
    {
     "data": {
      "text/plain": [
       "array([1, 2, 3, 4, 5, 6, 7, 8])"
      ]
     },
     "execution_count": 78,
     "metadata": {},
     "output_type": "execute_result"
    }
   ],
   "source": [
    "num_f"
   ]
  },
  {
   "cell_type": "code",
   "execution_count": 79,
   "id": "db87f2da",
   "metadata": {},
   "outputs": [],
   "source": [
    "def plot_performance(metric,name):\n",
    "    plt.plot(num_f, metric)\n",
    "    plt.title(name)\n",
    "    plt.show()"
   ]
  },
  {
   "cell_type": "code",
   "execution_count": 80,
   "id": "a2f4630e",
   "metadata": {},
   "outputs": [
    {
     "data": {
      "image/png": "[encoded data removed]",
      "text/plain": [
       "<Figure size 432x288 with 1 Axes>"
      ]
     },
     "metadata": {
      "needs_background": "light"
     },
     "output_type": "display_data"
    }
   ],
   "source": [
    "plot_performance(r2s, \"R-Squared\")"
   ]
  },
  {
   "cell_type": "code",
   "execution_count": 81,
   "id": "064b9c0d",
   "metadata": {},
   "outputs": [
    {
     "data": {
      "image/png": "[encoded data removed]",
      "text/plain": [
       "<Figure size 432x288 with 1 Axes>"
      ]
     },
     "metadata": {
      "needs_background": "light"
     },
     "output_type": "display_data"
    }
   ],
   "source": [
    "plot_performance(mses, \"Mean Squared Error\")"
   ]
  },
  {
   "cell_type": "code",
   "execution_count": 82,
   "id": "258c6a2f",
   "metadata": {},
   "outputs": [
    {
     "data": {
      "image/png": "[encoded data removed]",
      "text/plain": [
       "<Figure size 432x288 with 1 Axes>"
      ]
     },
     "metadata": {
      "needs_background": "light"
     },
     "output_type": "display_data"
    }
   ],
   "source": [
    "plot_performance(maes, \"Mean Absolute Error\")"
   ]
  },
  {
   "cell_type": "code",
   "execution_count": 83,
   "id": "b9bd8c48",
   "metadata": {},
   "outputs": [
    {
     "data": {
      "image/png": "[encoded data removed]",
      "text/plain": [
       "<Figure size 432x288 with 1 Axes>"
      ]
     },
     "metadata": {
      "needs_background": "light"
     },
     "output_type": "display_data"
    }
   ],
   "source": [
    "plot_performance(mapes, \"Mean Absolute Percentage Error\")"
   ]
  },
  {
   "cell_type": "code",
   "execution_count": null,
   "id": "e6485437",
   "metadata": {},
   "outputs": [],
   "source": []
  },
  {
   "cell_type": "code",
   "execution_count": null,
   "id": "779bdbf5",
   "metadata": {},
   "outputs": [],
   "source": []
  }
 ],
 "metadata": {
  "kernelspec": {
   "display_name": "Python 3 (ipykernel)",
   "language": "python",
   "name": "python3"
  },
  "language_info": {
   "codemirror_mode": {
    "name": "ipython",
    "version": 3
   },
   "file_extension": ".py",
   "mimetype": "text/x-python",
   "name": "python",
   "nbconvert_exporter": "python",
   "pygments_lexer": "ipython3",
   "version": "3.9.7"
  }
 },
 "nbformat": 4,
 "nbformat_minor": 5
}
